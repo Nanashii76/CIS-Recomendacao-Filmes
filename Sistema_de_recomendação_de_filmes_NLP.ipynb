{
  "nbformat": 4,
  "nbformat_minor": 0,
  "metadata": {
    "colab": {
      "provenance": []
    },
    "kernelspec": {
      "name": "python3",
      "display_name": "Python 3"
    },
    "language_info": {
      "name": "python"
    }
  },
  "cells": [
    {
      "cell_type": "markdown",
      "source": [
        "# Frente de Pesquisa NLP\n",
        "\n",
        "O objetivo desse projeto é criar um pequeno sistema com TF-IDF + consine similarity para recomendar filmes com gêneros parecidos\n",
        "\n",
        "O sistema consta com 2 datasets, um para a listagem de filmes e seus gêneros e outro com suas respectivas avaliações\n",
        "\n",
        "[Link para o dataset](https://www.kaggle.com/datasets/gargmanas/movierecommenderdataset?resource=download&select=movies.csv)\n",
        "\n",
        "Informações sobre o dataset `movies.csv`:\n",
        "\n",
        "- Coluna de ID: Um único id para cada filme\n",
        "- Coluna de Título: Título para cada filme\n",
        "- Coluna de gêneros: objeto com gêneros dos filmes\n",
        "\n",
        "Informações sobre o dataset `ratings.csv`:\n",
        "\n",
        "- Coluna de UserID: Um único id do usuário que avaliou o filme\n",
        "- Coluna do MovieID: Um único id para o filme\n",
        "- Coluna de Rating: Nota geral do filme, que vai de 0 a 5 (float)\n",
        "- Coluna de Timestamp: Tempo médio dos usuários que avaliaram esse filme\n",
        "\n"
      ],
      "metadata": {
        "id": "zTmvpOSpCFfM"
      }
    },
    {
      "cell_type": "markdown",
      "source": [
        "## Explorando os datasets"
      ],
      "metadata": {
        "id": "gfHz_ybvDdDx"
      }
    },
    {
      "cell_type": "code",
      "execution_count": null,
      "metadata": {
        "colab": {
          "base_uri": "https://localhost:8080/"
        },
        "id": "sBoU1j_7CDwc",
        "outputId": "b0a3fc70-aea7-4e2b-f412-9c8bfac3d672"
      },
      "outputs": [
        {
          "output_type": "stream",
          "name": "stdout",
          "text": [
            " Informações do DataFrame 'movies':\n",
            "<class 'pandas.core.frame.DataFrame'>\n",
            "RangeIndex: 9742 entries, 0 to 9741\n",
            "Data columns (total 3 columns):\n",
            " #   Column   Non-Null Count  Dtype \n",
            "---  ------   --------------  ----- \n",
            " 0   movieId  9742 non-null   int64 \n",
            " 1   title    9742 non-null   object\n",
            " 2   genres   9742 non-null   object\n",
            "dtypes: int64(1), object(2)\n",
            "memory usage: 228.5+ KB\n",
            "\n",
            " Primeiras 5 linhas do DataFrame 'movies':\n",
            "   movieId                               title  \\\n",
            "0        1                    Toy Story (1995)   \n",
            "1        2                      Jumanji (1995)   \n",
            "2        3             Grumpier Old Men (1995)   \n",
            "3        4            Waiting to Exhale (1995)   \n",
            "4        5  Father of the Bride Part II (1995)   \n",
            "\n",
            "                                        genres  \n",
            "0  Adventure|Animation|Children|Comedy|Fantasy  \n",
            "1                   Adventure|Children|Fantasy  \n",
            "2                               Comedy|Romance  \n",
            "3                         Comedy|Drama|Romance  \n",
            "4                                       Comedy  \n",
            "\n",
            " Valores nulos no DataFrame 'movies':\n",
            "movieId    0\n",
            "title      0\n",
            "genres     0\n",
            "dtype: int64\n",
            "\n",
            " Contagem de gêneros únicos no DataFrame 'movies':\n",
            "34\n",
            "\n",
            "\n",
            " Informações do DataFrame 'ratings':\n",
            "<class 'pandas.core.frame.DataFrame'>\n",
            "RangeIndex: 100836 entries, 0 to 100835\n",
            "Data columns (total 4 columns):\n",
            " #   Column     Non-Null Count   Dtype  \n",
            "---  ------     --------------   -----  \n",
            " 0   userId     100836 non-null  int64  \n",
            " 1   movieId    100836 non-null  int64  \n",
            " 2   rating     100836 non-null  float64\n",
            " 3   timestamp  100836 non-null  int64  \n",
            "dtypes: float64(1), int64(3)\n",
            "memory usage: 3.1 MB\n",
            "\n",
            " Primeiras 5 linhas do DataFrame 'ratings':\n",
            "   userId  movieId  rating  timestamp\n",
            "0       1        1     4.0  964982703\n",
            "1       1        3     4.0  964981247\n",
            "2       1        6     4.0  964982224\n",
            "3       1       47     5.0  964983815\n",
            "4       1       50     5.0  964982931\n",
            "\n",
            " Valores nulos no DataFrame 'ratings':\n",
            "userId       0\n",
            "movieId      0\n",
            "rating       0\n",
            "timestamp    0\n",
            "dtype: int64\n",
            "\n",
            " Estatísticas descritivas da coluna 'rating' no DataFrame 'ratings':\n",
            "count    100836.000000\n",
            "mean          3.501557\n",
            "std           1.042529\n",
            "min           0.500000\n",
            "25%           3.000000\n",
            "50%           3.500000\n",
            "75%           4.000000\n",
            "max           5.000000\n",
            "Name: rating, dtype: float64\n"
          ]
        }
      ],
      "source": [
        "import pandas as pd\n",
        "import numpy as np\n",
        "import seaborn as sns\n",
        "import matplotlib.pyplot as plt\n",
        "\n",
        "# Importando os datasets\n",
        "\n",
        "movies_df = pd.read_csv('/content/movies.csv')\n",
        "ratings_df = pd.read_csv('/content/ratings.csv')\n",
        "\n",
        "\n",
        "# Verificação do DataFrame 'movies'\n",
        "print(\" Informações do DataFrame 'movies':\")\n",
        "movies_df.info()\n",
        "print(\"\\n Primeiras 5 linhas do DataFrame 'movies':\")\n",
        "print(movies_df.head())\n",
        "print(\"\\n Valores nulos no DataFrame 'movies':\")\n",
        "print(movies_df.isnull().sum())\n",
        "print(\"\\n Contagem de gêneros únicos no DataFrame 'movies':\")\n",
        "# Para 'genres', 'no genres listed' é um valor comum que pode indicar falta de gênero.\n",
        "print(movies_df['genres'].value_counts()['(no genres listed)'] if '(no genres listed)' in movies_df['genres'].value_counts() else \"Nenhum filme com '(no genres listed)'\")\n",
        "\n",
        "\n",
        "# Verificação do DataFrame 'ratings'\n",
        "print(\"\\n\\n Informações do DataFrame 'ratings':\")\n",
        "ratings_df.info()\n",
        "print(\"\\n Primeiras 5 linhas do DataFrame 'ratings':\")\n",
        "print(ratings_df.head())\n",
        "print(\"\\n Valores nulos no DataFrame 'ratings':\")\n",
        "print(ratings_df.isnull().sum())\n",
        "print(\"\\n Estatísticas descritivas da coluna 'rating' no DataFrame 'ratings':\")\n",
        "print(ratings_df['rating'].describe())\n"
      ]
    },
    {
      "cell_type": "markdown",
      "source": [
        "## Análise exploratória"
      ],
      "metadata": {
        "id": "HfpEp53EFaY1"
      }
    },
    {
      "cell_type": "code",
      "source": [],
      "metadata": {
        "id": "kyulQBlqEyuL"
      },
      "execution_count": null,
      "outputs": []
    },
    {
      "cell_type": "markdown",
      "source": [
        "## Criação do sistema"
      ],
      "metadata": {
        "id": "LFm8vZYLFp1i"
      }
    },
    {
      "cell_type": "markdown",
      "source": [
        "**TF-IDF + Consine Similarity**"
      ],
      "metadata": {
        "id": "AuwcaupGHdhq"
      }
    },
    {
      "cell_type": "code",
      "source": [
        "from sklearn.feature_extraction.text import TfidfVectorizer\n",
        "from sklearn.metrics.pairwise import cosine_similarity\n",
        "\n",
        "# TF-IDF Vectorizer\n",
        "# Converter os gêneros em uma matriz TF-IDF\n",
        "tfidf = TfidfVectorizer(token_pattern=r'[a-zA-Z0-9\\-\\_]+')\n",
        "tfidf_matrix = tfidf.fit_transform(movies_df['genres'])\n",
        "\n",
        "print(\"Shape da Matriz\")\n",
        "print(tfidf_matrix.shape)\n",
        "print(movies_df['genres'].shape) # Verificando se o número de linhas bate\n",
        "\n",
        "# Calcular o cosseno de similaridade\n",
        "cosine_sim = cosine_similarity(tfidf_matrix, tfidf_matrix)\n",
        "\n",
        "print(\"Shape da matriz após cosseno de similaridade\")\n",
        "print(cosine_sim.shape)\n"
      ],
      "metadata": {
        "colab": {
          "base_uri": "https://localhost:8080/"
        },
        "id": "vhMLDnP3Frad",
        "outputId": "9c8534b5-6d8e-483a-fcc6-a0cc2584755c"
      },
      "execution_count": null,
      "outputs": [
        {
          "output_type": "stream",
          "name": "stdout",
          "text": [
            "Shape da Matriz\n",
            "(9742, 22)\n",
            "(9742,)\n",
            "Shape da matriz após cosseno de similaridade\n",
            "(9742, 9742)\n"
          ]
        }
      ]
    },
    {
      "cell_type": "markdown",
      "source": [
        "**Mapear similaridade com os índices do filme**"
      ],
      "metadata": {
        "id": "xYv_r6IfHheo"
      }
    },
    {
      "cell_type": "code",
      "source": [
        "indices = pd.Series(movies_df.index, index=movies_df['title']).drop_duplicates()"
      ],
      "metadata": {
        "id": "RHiWsbfLHBmF"
      },
      "execution_count": null,
      "outputs": []
    },
    {
      "cell_type": "markdown",
      "source": [
        "**Capturar Avaliações Médias de cada filme**"
      ],
      "metadata": {
        "id": "5KICCb04Hu4r"
      }
    },
    {
      "cell_type": "code",
      "source": [
        "avarage_ratings = ratings_df.groupby('movieId')['rating'].mean().reset_index()\n",
        "avarage_ratings.rename(columns={'rating': 'avarage_rating'}, inplace=True)"
      ],
      "metadata": {
        "id": "GBXTP1sAHuGD"
      },
      "execution_count": null,
      "outputs": []
    },
    {
      "cell_type": "markdown",
      "source": [
        "**Contar Avaliações de cada filme**"
      ],
      "metadata": {
        "id": "hpeWFe2GIIMM"
      }
    },
    {
      "cell_type": "code",
      "source": [
        "rating_counts = ratings_df.groupby('movieId')['rating'].count().reset_index()\n",
        "rating_counts.rename(columns={'rating': 'rating_count'}, inplace=True)"
      ],
      "metadata": {
        "id": "zZwZZdX3IFv0"
      },
      "execution_count": null,
      "outputs": []
    },
    {
      "cell_type": "markdown",
      "source": [
        "**Criando Função de recomendação**"
      ],
      "metadata": {
        "id": "-cy3D3xEId2w"
      }
    },
    {
      "cell_type": "code",
      "source": [
        "def recommend_movies(title, cosine_sim_matrix, df, indices_series, num_recommendations=10):\n",
        "  if title not in indices_series:\n",
        "    print(f\"Filme '{title}' não encontrado no dataset.\")\n",
        "    return pd.DataFrame()\n",
        "\n",
        "  idx = indices_series[title]\n",
        "  sim_scores = list(enumerate(cosine_sim_matrix[idx]))\n",
        "  sim_scores = sorted(sim_scores, key=lambda x: x[1], reverse=True)\n",
        "\n",
        "  sim_scores = sim_scores[1:num_recommendations+1]\n",
        "  movie_indices = [i[0] for i in sim_scores]\n",
        "  similarity_score = [i[1] for i in sim_scores]\n",
        "\n",
        "  recommended_df = df.iloc[movie_indices].copy()\n",
        "  recommended_df['similarity_score'] = similarity_score\n",
        "\n",
        "  recommended_df['similarity_score'] = recommended_df['similarity_score'].round(2)\n",
        "\n",
        "  return recommended_df[['title', 'genres', 'average_rating', 'rating_count', 'similarity_score']]"
      ],
      "metadata": {
        "id": "uf8GIs7IIaNS"
      },
      "execution_count": null,
      "outputs": []
    },
    {
      "cell_type": "markdown",
      "source": [
        "## Criando interface Streamlit"
      ],
      "metadata": {
        "id": "eJ52EPNgJoyT"
      }
    },
    {
      "cell_type": "code",
      "source": [
        "!pip install streamlit pyngrok -q"
      ],
      "metadata": {
        "id": "V0G1PqzoJVKQ"
      },
      "execution_count": null,
      "outputs": []
    },
    {
      "cell_type": "code",
      "source": [
        "import streamlit as st\n",
        "import os\n",
        "from pyngrok import ngrok\n",
        "\n",
        "@st.cache_data\n",
        "def load_and_process_data():\n",
        "    # Verifica se os arquivos existem. No Colab, eles estariam na raiz do ambiente de execução.\n",
        "    if not os.path.exists('/content/movies.csv') or not os.path.exists('/content/ratings.csv'):\n",
        "        st.error(\"Erro: Os arquivos 'movies.csv' ou 'ratings.csv' não foram encontrados. Por favor, certifique-se de tê-los carregado para o ambiente do Colab.\")\n",
        "        st.stop()\n",
        "    try:\n",
        "        movies_df = pd.read_csv('/content/movies.csv')\n",
        "        ratings_df = pd.read_csv('/content/ratings.csv')\n",
        "    except Exception as e:\n",
        "        st.error(f\"Erro ao carregar os arquivos CSV: {e}\")\n",
        "        st.stop()\n",
        "\n",
        "    movies_df['genres'] = movies_df['genres'].replace('(no genres listed)', '')\n",
        "\n",
        "    average_ratings = ratings_df.groupby('movieId')['rating'].mean().reset_index()\n",
        "    average_ratings.rename(columns={'rating': 'average_rating'}, inplace=True)\n",
        "    rating_counts = ratings_df.groupby('movieId')['rating'].count().reset_index()\n",
        "    rating_counts.rename(columns={'rating': 'rating_count'}, inplace=True)\n",
        "\n",
        "    movies_df = pd.merge(movies_df, average_ratings, on='movieId', how='left')\n",
        "    movies_df = pd.merge(movies_df, rating_counts, on='movieId', how='left')\n",
        "\n",
        "    tfidf = TfidfVectorizer(token_pattern=r'[a-zA-Z0-9\\-\\_]+')\n",
        "    tfidf_matrix = tfidf.fit_transform(movies_df['genres'])\n",
        "\n",
        "    cosine_sim = cosine_similarity(tfidf_matrix, tfidf_matrix)\n",
        "\n",
        "    indices = pd.Series(movies_df.index, index=movies_df['title']).drop_duplicates()\n",
        "\n",
        "    return movies_df, cosine_sim, indices\n",
        "\n",
        "def recommend_movies(title, cosine_sim_matrix, df, indices_series, num_recommendations=10):\n",
        "    if title not in indices_series:\n",
        "        st.warning(f\"Filme '{title}' não encontrado no dataset. Por favor, verifique a ortografia ou tente outro filme.\")\n",
        "        return pd.DataFrame()\n",
        "\n",
        "    idx = indices_series[title]\n",
        "    sim_scores = list(enumerate(cosine_sim_matrix[idx]))\n",
        "    sim_scores = sorted(sim_scores, key=lambda x: x[1], reverse=True)\n",
        "\n",
        "    sim_scores = sim_scores[1:num_recommendations+1]\n",
        "    movie_indices = [i[0] for i in sim_scores]\n",
        "    similarity_scores = [i[1] for i in sim_scores]\n",
        "\n",
        "    recommended_df = df.iloc[movie_indices].copy()\n",
        "    recommended_df['similarity_score'] = similarity_scores\n",
        "    recommended_df['similarity_score'] = recommended_df['similarity_score'].round(2)\n",
        "\n",
        "    return recommended_df[['title', 'genres', 'average_rating', 'rating_count', 'similarity_score']]\n",
        "\n",
        "# Salvar o código do Streamlit em um arquivo .py\n",
        "streamlit_script_name = \"streamlit_app.py\"\n",
        "with open(streamlit_script_name, \"w\") as f:\n",
        "    f.write(\"\"\"\n",
        "import streamlit as st\n",
        "import pandas as pd\n",
        "from sklearn.feature_extraction.text import TfidfVectorizer\n",
        "from sklearn.metrics.pairwise import cosine_similarity\n",
        "import os\n",
        "\n",
        "# --- Lógica principal do app Streamlit ---\n",
        "# st.set_page_config DEVE SER A PRIMEIRA CHAMADA STREAMLIT\n",
        "st.set_page_config(page_title=\"Sistema de Recomendação de Filmes\", layout=\"wide\")\n",
        "\n",
        "# --- Funções e carregamento de dados (copiadas do script principal) ---\n",
        "\n",
        "@st.cache_data\n",
        "def load_and_process_data():\n",
        "    if not os.path.exists('movies.csv') or not os.path.exists('ratings.csv'):\n",
        "        st.error(\"Erro: Os arquivos 'movies.csv' ou 'ratings.csv' não foram encontrados. Por favor, certifique-se de tê-los carregado para o ambiente do Colab.\")\n",
        "        st.stop()\n",
        "\n",
        "    try:\n",
        "        movies_df = pd.read_csv('movies.csv')\n",
        "        ratings_df = pd.read_csv('ratings.csv')\n",
        "    except Exception as e:\n",
        "        st.error(f\"Erro ao carregar os arquivos CSV: {e}\")\n",
        "        st.stop()\n",
        "\n",
        "    movies_df['genres'] = movies_df['genres'].replace('(no genres listed)', '')\n",
        "    average_ratings = ratings_df.groupby('movieId')['rating'].mean().reset_index()\n",
        "    average_ratings.rename(columns={'rating': 'average_rating'}, inplace=True)\n",
        "    rating_counts = ratings_df.groupby('movieId')['rating'].count().reset_index()\n",
        "    rating_counts.rename(columns={'rating': 'rating_count'}, inplace=True)\n",
        "    movies_df = pd.merge(movies_df, average_ratings, on='movieId', how='left')\n",
        "    movies_df = pd.merge(movies_df, rating_counts, on='movieId', how='left')\n",
        "    movies_df['average_rating'].fillna(0, inplace=True)\n",
        "    movies_df['rating_count'].fillna(0, inplace=True)\n",
        "\n",
        "    tfidf = TfidfVectorizer(token_pattern=r'[a-zA-Z0-9\\-\\_]+')\n",
        "    tfidf_matrix = tfidf.fit_transform(movies_df['genres'])\n",
        "    cosine_sim = cosine_similarity(tfidf_matrix, tfidf_matrix)\n",
        "    indices = pd.Series(movies_df.index, index=movies_df['title']).drop_duplicates()\n",
        "\n",
        "    return movies_df, cosine_sim, indices\n",
        "\n",
        "def recommend_movies(title, cosine_sim_matrix, df, indices_series, num_recommendations=10):\n",
        "    if title not in indices_series:\n",
        "        st.warning(f\"Filme '{title}' não encontrado no dataset. Por favor, verifique a ortografia ou tente outro filme.\")\n",
        "        return pd.DataFrame()\n",
        "\n",
        "    idx = indices_series[title]\n",
        "    sim_scores = list(enumerate(cosine_sim_matrix[idx]))\n",
        "    sim_scores = sorted(sim_scores, key=lambda x: x[1], reverse=True)\n",
        "    sim_scores = sim_scores[1:num_recommendations+1]\n",
        "    movie_indices = [i[0] for i in sim_scores]\n",
        "    similarity_scores = [i[1] for i in sim_scores]\n",
        "    recommended_df = df.iloc[movie_indices].copy()\n",
        "    recommended_df['similarity_score'] = similarity_scores\n",
        "    recommended_df['similarity_score'] = recommended_df['similarity_score'].round(2)\n",
        "    return recommended_df[['title', 'genres', 'average_rating', 'rating_count', 'similarity_score']]\n",
        "\n",
        "# Carregar dados e modelos uma vez, globalmente para o app Streamlit\n",
        "movies_df_global, cosine_sim_matrix_global, indices_global = load_and_process_data()\n",
        "\n",
        "st.title(\"Sistema de Recomendação de Filmes por Gênero\")\n",
        "st.markdown(\"Este sistema recomenda filmes com base na similaridade de seus gêneros, utilizando TF-IDF e Similaridade de Cosseno.\")\n",
        "\n",
        "# Slider para o número de recomendações\n",
        "num_recommendations = st.slider(\n",
        "    \"Quantos filmes você gostaria de recomendar?\",\n",
        "    min_value=5,\n",
        "    max_value=20,\n",
        "    value=10,\n",
        "    step=1\n",
        ")\n",
        "\n",
        "# Campo de entrada para o usuário digitar o nome do filme\n",
        "movie_search_query = st.text_input(\"Digite o nome de um filme para obter recomendações:\", \"Toy Story (1995)\")\n",
        "\n",
        "# Lógica para sugestões de filmes\n",
        "filtered_movies = []\n",
        "if movie_search_query:\n",
        "    # Filtra filmes que contêm o texto digitado (case-insensitive)\n",
        "    filtered_movies = movies_df_global[\n",
        "        movies_df_global['title'].str.contains(movie_search_query, case=False, na=False)\n",
        "    ]['title'].tolist()\n",
        "    # Limita o número de sugestões para não sobrecarregar a interface\n",
        "    filtered_movies = sorted(filtered_movies)[:50] # Pega até 50 sugestões e ordena alfabeticamente\n",
        "\n",
        "selected_movie = None\n",
        "if filtered_movies:\n",
        "    st.markdown(\"---\")\n",
        "    st.write(\"Sugestões (selecione o filme exato):\")\n",
        "    # Tenta pré-selecionar o filme que o usuário digitou se houver uma correspondência exata\n",
        "    try:\n",
        "        default_index = filtered_movies.index(movie_search_query)\n",
        "    except ValueError:\n",
        "        default_index = 0 # Seleciona o primeiro da lista se não houver correspondência exata\n",
        "\n",
        "    selected_movie = st.selectbox(\n",
        "        \"Selecione o filme desejado da lista de sugestões:\",\n",
        "        options=filtered_movies,\n",
        "        index=default_index,\n",
        "        key=\"movie_selection_box\" # Uma chave única é necessária para widgets\n",
        "    )\n",
        "    # Se um filme foi selecionado do selectbox, use-o para a recomendação\n",
        "    movie_to_recommend = selected_movie\n",
        "else:\n",
        "    # Se não houver sugestões, ou se o campo de busca estiver vazio, use o que foi digitado\n",
        "    movie_to_recommend = movie_search_query\n",
        "\n",
        "# Botão para acionar a recomendação\n",
        "if st.button(\"Obter Recomendações\"):\n",
        "    if movie_to_recommend: # Verifica se há um filme para recomendar\n",
        "        with st.spinner(f'Buscando {num_recommendations} recomendações para \"{movie_to_recommend}\"...'):\n",
        "            recommendations = recommend_movies(movie_to_recommend, cosine_sim_matrix_global, movies_df_global, indices_global, num_recommendations)\n",
        "\n",
        "            if not recommendations.empty:\n",
        "                st.subheader(f\"Filmes recomendados para '{movie_to_recommend}':\")\n",
        "                st.dataframe(recommendations)\n",
        "            else:\n",
        "                st.info(\"Nenhuma recomendação encontrada ou o filme não existe. Tente outro nome.\")\n",
        "    else:\n",
        "        st.warning(\"Por favor, digite o nome de um filme ou selecione um nas sugestões.\")\n",
        "\n",
        "st.markdown(\"---\")\n",
        "st.write(\"Desenvolvido com Streamlit, TF-IDF e Cosine Similarity.\")\n",
        "\"\"\")\n",
        "\n",
        "# Iniciar o túnel ngrok (Mantenha o seu token aqui)\n",
        "ngrok.set_auth_token(\"{CHAVE_API_NGROK}\") # Substitua pelo seu token\n",
        "\n",
        "print(\"Aguarde, iniciando o Streamlit e o túnel ngrok...\")\n",
        "public_url = ngrok.connect(8501)\n",
        "print(f\"Seu aplicativo Streamlit está disponível em: {public_url}\")\n",
        "\n",
        "# Rodar o Streamlit em segundo plano\n",
        "!nohup streamlit run {streamlit_script_name} >/dev/null 2>&1 &"
      ],
      "metadata": {
        "colab": {
          "base_uri": "https://localhost:8080/"
        },
        "id": "h4qEnoLTJsqw",
        "outputId": "fbf913c5-58b6-49da-9b29-9e8e9642271a"
      },
      "execution_count": null,
      "outputs": [
        {
          "output_type": "stream",
          "name": "stderr",
          "text": [
            "2025-06-16 19:33:02.532 WARNING streamlit.runtime.caching.cache_data_api: No runtime found, using MemoryCacheStorageManager\n"
          ]
        },
        {
          "output_type": "stream",
          "name": "stdout",
          "text": [
            "Aguarde, iniciando o Streamlit e o túnel ngrok...\n",
            "Seu aplicativo Streamlit está disponível em: NgrokTunnel: \"https://d0a1-35-199-0-234.ngrok-free.app\" -> \"http://localhost:8501\"\n",
            "\n",
            "Se o link não aparecer, tente reiniciar a célula.\n",
            "Lembre-se de fazer o upload de movies.csv e ratings.csv antes de rodar este código.\n"
          ]
        }
      ]
    },
    {
      "cell_type": "code",
      "source": [],
      "metadata": {
        "id": "MStjzwgmJ_j_"
      },
      "execution_count": null,
      "outputs": []
    }
  ]
}